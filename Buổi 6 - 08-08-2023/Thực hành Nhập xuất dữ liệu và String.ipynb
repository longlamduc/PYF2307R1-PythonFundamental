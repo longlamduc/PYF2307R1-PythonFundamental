{
 "cells": [
  {
   "cell_type": "markdown",
   "id": "82503791",
   "metadata": {},
   "source": [
    "# Thực hành nhập xuất dữ liệu và String"
   ]
  },
  {
   "cell_type": "markdown",
   "id": "60287ee1",
   "metadata": {},
   "source": [
    "## Bài 1\n",
    "Viết chương trình nhập vào 2 số nguyên `num1` và `num2`. In ra tích của 2 số nguyên đó."
   ]
  },
  {
   "cell_type": "code",
   "execution_count": 1,
   "id": "0b766812",
   "metadata": {
    "scrolled": true
   },
   "outputs": [
    {
     "name": "stdout",
     "output_type": "stream",
     "text": [
      "Nhập số nguyên 1: 4\n",
      "Nhập số nguyên 2: 5\n",
      "4 * 5 = 20\n"
     ]
    }
   ],
   "source": [
    "num1 = int(input(\"Nhập số nguyên 1: \"))\n",
    "num2 = int(input(\"Nhập số nguyên 2: \"))\n",
    "\n",
    "result = num1 * num2\n",
    "print(f\"{num1} * {num2} = {result}\")"
   ]
  },
  {
   "cell_type": "markdown",
   "id": "89dda208",
   "metadata": {},
   "source": [
    "## Bài 2\n",
    "Viết chương trình nhập vào `name`(tên) của người dùng. In ra nội dung sau: \"Hello --name--\"\n",
    "\n",
    "Ví dụ:\n",
    "name = \"Long\"\n",
    "\n",
    "Kết quả in ra sẽ là:\n",
    "\"Hello Long\""
   ]
  },
  {
   "cell_type": "code",
   "execution_count": 4,
   "id": "d6000627",
   "metadata": {},
   "outputs": [
    {
     "name": "stdout",
     "output_type": "stream",
     "text": [
      "Please enter your name: Long\n",
      "Hello Long\n"
     ]
    }
   ],
   "source": [
    "name = input(\"Please enter your name: \")\n",
    "print(f\"Hello {name}\")"
   ]
  },
  {
   "cell_type": "markdown",
   "id": "a5073d2f",
   "metadata": {},
   "source": [
    "## Bài 3\n",
    "Viết chương trình nhập vào 2 số nguyên num1 và num2. In ra thương của 2 số nguyên đó (làm tròn 2 chữ số thập phân)."
   ]
  },
  {
   "cell_type": "code",
   "execution_count": 3,
   "id": "f03e79c5",
   "metadata": {},
   "outputs": [
    {
     "name": "stdout",
     "output_type": "stream",
     "text": [
      "Nhập số nguyên 1: 7\n",
      "Nhập số nguyên 2: 3\n",
      "7 / 3 = 2.33\n"
     ]
    }
   ],
   "source": [
    "num1 = int(input(\"Nhập số nguyên 1: \"))\n",
    "num2 = int(input(\"Nhập số nguyên 2: \"))\n",
    "\n",
    "result = round(num1 / num2, 2)\n",
    "print(f\"{num1} / {num2} = {result}\")"
   ]
  }
 ],
 "metadata": {
  "kernelspec": {
   "display_name": "Python 3 (ipykernel)",
   "language": "python",
   "name": "python3"
  },
  "language_info": {
   "codemirror_mode": {
    "name": "ipython",
    "version": 3
   },
   "file_extension": ".py",
   "mimetype": "text/x-python",
   "name": "python",
   "nbconvert_exporter": "python",
   "pygments_lexer": "ipython3",
   "version": "3.9.6"
  }
 },
 "nbformat": 4,
 "nbformat_minor": 5
}
