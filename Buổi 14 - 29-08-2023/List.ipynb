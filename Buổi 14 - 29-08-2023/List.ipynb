{
 "cells": [
  {
   "cell_type": "markdown",
   "metadata": {},
   "source": [
    "## Review: type()"
   ]
  },
  {
   "cell_type": "code",
   "execution_count": 3,
   "metadata": {},
   "outputs": [
    {
     "name": "stdout",
     "output_type": "stream",
     "text": [
      "<class 'str'>\n",
      "<class 'int'>\n",
      "<class 'float'>\n",
      "<class 'bool'>\n"
     ]
    }
   ],
   "source": [
    "# Python có 4 kiểu dữ liệu cơ bản\n",
    "print(type(\"Hello\"))\n",
    "print(type(100))\n",
    "print(type(10.05))\n",
    "print(type(True))"
   ]
  },
  {
   "cell_type": "markdown",
   "metadata": {},
   "source": [
    "## list là gì?"
   ]
  },
  {
   "cell_type": "code",
   "execution_count": null,
   "metadata": {},
   "outputs": [],
   "source": [
    "# Ví dụ\n",
    "list_lesson = [\"Data Type\", \"Input, Output\", \"Conditional Statement\"]  # 3 values\n",
    "list_average_score = [6.5, 6.7, 6.8, 5.6, 7.5]  # 5 items\n",
    "list_bonus = [True, False, True, True, False]"
   ]
  },
  {
   "cell_type": "code",
   "execution_count": 7,
   "metadata": {},
   "outputs": [
    {
     "name": "stdout",
     "output_type": "stream",
     "text": [
      "28\n",
      "25\n"
     ]
    }
   ],
   "source": [
    "# Sử dụng list\n",
    "list_info = [\"John Smith\", \"Male\", 28, 176, 67]\n",
    "age = list_info[2]\n",
    "print(age)\n",
    "\n",
    "list_info[2] = 25\n",
    "print(list_info[2])"
   ]
  },
  {
   "cell_type": "code",
   "execution_count": 6,
   "metadata": {},
   "outputs": [
    {
     "ename": "TypeError",
     "evalue": "'str' object does not support item assignment",
     "output_type": "error",
     "traceback": [
      "\u001b[1;31m---------------------------------------------------------------------------\u001b[0m",
      "\u001b[1;31mTypeError\u001b[0m                                 Traceback (most recent call last)",
      "\u001b[1;32m~\\AppData\\Local\\Temp/ipykernel_14260/1979240908.py\u001b[0m in \u001b[0;36m<module>\u001b[1;34m\u001b[0m\n\u001b[0;32m      1\u001b[0m \u001b[0mcontent\u001b[0m \u001b[1;33m=\u001b[0m \u001b[1;34m\"PythonFundamental\"\u001b[0m\u001b[1;33m\u001b[0m\u001b[1;33m\u001b[0m\u001b[0m\n\u001b[1;32m----> 2\u001b[1;33m \u001b[0mcontent\u001b[0m\u001b[1;33m[\u001b[0m\u001b[1;36m0\u001b[0m\u001b[1;33m]\u001b[0m \u001b[1;33m=\u001b[0m \u001b[1;34m\"T\"\u001b[0m\u001b[1;33m\u001b[0m\u001b[1;33m\u001b[0m\u001b[0m\n\u001b[0m",
      "\u001b[1;31mTypeError\u001b[0m: 'str' object does not support item assignment"
     ]
    }
   ],
   "source": [
    "content = \"PythonFundamental\"\n",
    "content[0] = \"T\""
   ]
  },
  {
   "cell_type": "markdown",
   "metadata": {},
   "source": [
    "### Thực hành: Viết chương trình tạo ra một list các string khác nhau và đếm tổng số lượng string dài hơn 3 kí tự"
   ]
  },
  {
   "cell_type": "code",
   "execution_count": null,
   "metadata": {},
   "outputs": [],
   "source": []
  },
  {
   "cell_type": "markdown",
   "metadata": {},
   "source": [
    "### Thực hành 2: Viết chương trình nhận vào 2 list và trả về True nếu 2 list có ít nhất 1 phần tử chung, ngược lại trả về False"
   ]
  },
  {
   "cell_type": "code",
   "execution_count": null,
   "metadata": {},
   "outputs": [],
   "source": []
  },
  {
   "cell_type": "markdown",
   "metadata": {},
   "source": [
    "## Các thao tác cơ bản với list"
   ]
  },
  {
   "cell_type": "markdown",
   "metadata": {},
   "source": [
    "### Kiểm tra độ dài list"
   ]
  },
  {
   "cell_type": "code",
   "execution_count": 8,
   "metadata": {},
   "outputs": [
    {
     "name": "stdout",
     "output_type": "stream",
     "text": [
      "6\n"
     ]
    }
   ],
   "source": [
    "list_number = [0, 1, 2, 3, 4, 5]\n",
    "print(len(list_number))"
   ]
  },
  {
   "cell_type": "markdown",
   "metadata": {},
   "source": [
    "### Truy cập phần tử trên list"
   ]
  },
  {
   "cell_type": "code",
   "execution_count": 10,
   "metadata": {
    "scrolled": true
   },
   "outputs": [
    {
     "name": "stdout",
     "output_type": "stream",
     "text": [
      "0\n",
      "1\n",
      "2\n",
      "3\n",
      "4\n",
      "5\n"
     ]
    }
   ],
   "source": [
    "list_number = [0, 1, 2, 3, 4, 5]\n",
    "\n",
    "for i in range(len(list_number)):\n",
    "    print(list_number[i])"
   ]
  },
  {
   "cell_type": "code",
   "execution_count": 11,
   "metadata": {
    "scrolled": true
   },
   "outputs": [
    {
     "name": "stdout",
     "output_type": "stream",
     "text": [
      "0\n",
      "1\n",
      "2\n",
      "3\n",
      "4\n",
      "5\n"
     ]
    }
   ],
   "source": [
    "for value in list_number:\n",
    "    print(value)"
   ]
  },
  {
   "cell_type": "markdown",
   "metadata": {},
   "source": [
    "### Thực hành: Tạo một list 10 số tự nhiên và in ra các phần tử trong list"
   ]
  },
  {
   "cell_type": "code",
   "execution_count": 12,
   "metadata": {},
   "outputs": [
    {
     "name": "stdout",
     "output_type": "stream",
     "text": [
      "123\n",
      "234\n",
      "23\n",
      "2\n",
      "15\n",
      "45\n",
      "67\n",
      "45\n",
      "678\n",
      "19\n"
     ]
    }
   ],
   "source": [
    "list_number = [123, 234, 23, 2, 15, 45, 67, 45, 678, 19]\n",
    "for value in list_number:\n",
    "    print(value)"
   ]
  },
  {
   "cell_type": "markdown",
   "metadata": {},
   "source": [
    "### Thực hành 2: Tạo ra một list con chưa 2 phần tử cuối cùng từ list đã tạo ở trên"
   ]
  },
  {
   "cell_type": "code",
   "execution_count": 13,
   "metadata": {},
   "outputs": [
    {
     "name": "stdout",
     "output_type": "stream",
     "text": [
      "[678, 19]\n"
     ]
    }
   ],
   "source": [
    "sub_list = list_number[-2:]\n",
    "print(sub_list)"
   ]
  },
  {
   "cell_type": "markdown",
   "metadata": {},
   "source": [
    "### Cộng list"
   ]
  },
  {
   "cell_type": "code",
   "execution_count": 16,
   "metadata": {},
   "outputs": [
    {
     "name": "stdout",
     "output_type": "stream",
     "text": [
      "['laptop', 'phone', 'keyboard', 'earphone']\n",
      "['laptop', 'phone', 'keyboard', 'earphone', 'lamp', 'charger']\n",
      "['laptop', 'phone', 'keyboard', 'earphone', 'lamp', 'charger', 'lamp', 'charger']\n"
     ]
    }
   ],
   "source": [
    "list_equipment = ['laptop', 'phone', 'keyboard']\n",
    "\n",
    "# append -> thêm phần tử vào vị trí cuối cùng trong list\n",
    "list_equipment.append('earphone')\n",
    "print(list_equipment)\n",
    "\n",
    "\n",
    "# extend -> ghép nối một list khác vào list hiện tại\n",
    "extra_equipment = ['lamp', 'charger']\n",
    "list_equipment.extend(extra_equipment)\n",
    "print(list_equipment)\n",
    "\n",
    "list_equipment += extra_equipment\n",
    "print(list_equipment)"
   ]
  },
  {
   "cell_type": "markdown",
   "metadata": {},
   "source": [
    "### Thực hành: Thêm học sinh vào lớp"
   ]
  },
  {
   "cell_type": "code",
   "execution_count": 17,
   "metadata": {},
   "outputs": [
    {
     "name": "stdout",
     "output_type": "stream",
     "text": [
      "['Andy', 'Bryan', 'Cindy', 'Dan', 'Emma', 'Ferb']\n"
     ]
    }
   ],
   "source": [
    "list_student = ['Andy', 'Bryan', 'Cindy', 'Dan']\n",
    "new_student = ['Emma', 'Ferb']\n",
    "\n",
    "list_student.extend(new_student)\n",
    "print(list_student)"
   ]
  },
  {
   "cell_type": "markdown",
   "metadata": {},
   "source": [
    "### Kiểm tra phần tử tồn tại trong list"
   ]
  },
  {
   "cell_type": "code",
   "execution_count": 19,
   "metadata": {},
   "outputs": [
    {
     "name": "stdout",
     "output_type": "stream",
     "text": [
      "True\n",
      "False\n"
     ]
    }
   ],
   "source": [
    "list_student = ['Andy', 'Bryan', 'Cindy', 'Dan', 'Emma', 'Ferb']\n",
    "\n",
    "print('Emma' in list_student)\n",
    "print('Steve' in list_student)"
   ]
  },
  {
   "cell_type": "markdown",
   "metadata": {},
   "source": [
    "### Xóa phần tử khỏi list"
   ]
  },
  {
   "cell_type": "code",
   "execution_count": 21,
   "metadata": {},
   "outputs": [
    {
     "name": "stdout",
     "output_type": "stream",
     "text": [
      "['Andy', 'Bryan', 'Cindy', 'Emma', 'Ferb']\n",
      "['Andy', 'Cindy', 'Emma', 'Ferb']\n"
     ]
    }
   ],
   "source": [
    "list_student = ['Andy', 'Bryan', 'Cindy', 'Dan', 'Emma', 'Ferb']\n",
    "\n",
    "# remove -> xóa giá trị đã được chỉ định trong list\n",
    "list_student.remove('Dan')\n",
    "print(list_student)\n",
    "\n",
    "\n",
    "# del -> xóa phần tử tại index đã được chỉ định trước\n",
    "del list_student[1]\n",
    "print(list_student)"
   ]
  },
  {
   "cell_type": "markdown",
   "metadata": {},
   "source": [
    "### Sắp xếp list"
   ]
  },
  {
   "cell_type": "code",
   "execution_count": null,
   "metadata": {},
   "outputs": [],
   "source": [
    "list_mark = [6.5, 6.7, 7.6, 5.8]\n",
    "\n",
    "# sắp xếp list từ thấp lên cao\n",
    "list_mark.sort()\n",
    "print(list_mark)\n",
    "\n",
    "# sắp xếp list từ cao xuống thấp\n",
    "list_mark.sort(reverse=True)\n",
    "print(list_mark)"
   ]
  },
  {
   "cell_type": "markdown",
   "metadata": {},
   "source": [
    "### Làm rỗng list"
   ]
  },
  {
   "cell_type": "code",
   "execution_count": null,
   "metadata": {},
   "outputs": [],
   "source": []
  },
  {
   "cell_type": "markdown",
   "metadata": {},
   "source": [
    "### Copy list"
   ]
  },
  {
   "cell_type": "code",
   "execution_count": null,
   "metadata": {},
   "outputs": [],
   "source": []
  }
 ],
 "metadata": {
  "kernelspec": {
   "display_name": "Python 3 (ipykernel)",
   "language": "python",
   "name": "python3"
  },
  "language_info": {
   "codemirror_mode": {
    "name": "ipython",
    "version": 3
   },
   "file_extension": ".py",
   "mimetype": "text/x-python",
   "name": "python",
   "nbconvert_exporter": "python",
   "pygments_lexer": "ipython3",
   "version": "3.9.6"
  }
 },
 "nbformat": 4,
 "nbformat_minor": 4
}
